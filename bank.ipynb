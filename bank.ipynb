{
 "cells": [
  {
   "cell_type": "markdown",
   "metadata": {},
   "source": [
    "Github: https://github.com/Sammat2507/proyecto-sprint-9"
   ]
  },
  {
   "cell_type": "code",
   "execution_count": 1,
   "metadata": {},
   "outputs": [],
   "source": [
    "import pandas as pd\n",
    "import numpy as np\n",
    "from sklearn.linear_model import LogisticRegression\n",
    "from sklearn.ensemble import RandomForestClassifier\n",
    "from sklearn.tree import DecisionTreeClassifier\n",
    "from sklearn.model_selection import train_test_split\n",
    "from sklearn.metrics import precision_score, recall_score, accuracy_score, precision_recall_curve, f1_score, roc_auc_score\n",
    "from sklearn.utils import shuffle\n",
    "import matplotlib.pyplot as plt"
   ]
  },
  {
   "cell_type": "code",
   "execution_count": 2,
   "metadata": {},
   "outputs": [
    {
     "name": "stdout",
     "output_type": "stream",
     "text": [
      "<class 'pandas.core.frame.DataFrame'>\n",
      "RangeIndex: 10000 entries, 0 to 9999\n",
      "Data columns (total 14 columns):\n",
      " #   Column           Non-Null Count  Dtype  \n",
      "---  ------           --------------  -----  \n",
      " 0   RowNumber        10000 non-null  int64  \n",
      " 1   CustomerId       10000 non-null  int64  \n",
      " 2   Surname          10000 non-null  object \n",
      " 3   CreditScore      10000 non-null  int64  \n",
      " 4   Geography        10000 non-null  object \n",
      " 5   Gender           10000 non-null  object \n",
      " 6   Age              10000 non-null  int64  \n",
      " 7   Tenure           9091 non-null   float64\n",
      " 8   Balance          10000 non-null  float64\n",
      " 9   NumOfProducts    10000 non-null  int64  \n",
      " 10  HasCrCard        10000 non-null  int64  \n",
      " 11  IsActiveMember   10000 non-null  int64  \n",
      " 12  EstimatedSalary  10000 non-null  float64\n",
      " 13  Exited           10000 non-null  int64  \n",
      "dtypes: float64(3), int64(8), object(3)\n",
      "memory usage: 1.1+ MB\n"
     ]
    }
   ],
   "source": [
    "bank = pd.read_csv('Churn.csv')\n",
    "bank.info()"
   ]
  },
  {
   "cell_type": "code",
   "execution_count": 3,
   "metadata": {},
   "outputs": [
    {
     "name": "stdout",
     "output_type": "stream",
     "text": [
      "      CreditScore  Age  Tenure  Balance  NumOfProducts  HasCrCard  \\\n",
      "0             619   42       2        0              1          1   \n",
      "1             608   41       1    83807              1          0   \n",
      "2             502   42       8   159660              3          1   \n",
      "3             699   39       1        0              2          0   \n",
      "4             850   43       2   125510              1          1   \n",
      "...           ...  ...     ...      ...            ...        ...   \n",
      "9995          771   39       5        0              2          1   \n",
      "9996          516   35      10    57369              1          1   \n",
      "9997          709   36       7        0              1          0   \n",
      "9998          772   42       3    75075              2          1   \n",
      "9999          792   28       0   130142              1          1   \n",
      "\n",
      "      IsActiveMember  EstimatedSalary  Exited  Geography_Germany  \\\n",
      "0                  1           101348       1                  0   \n",
      "1                  1           112542       0                  0   \n",
      "2                  0           113931       1                  0   \n",
      "3                  0            93826       0                  0   \n",
      "4                  1            79084       0                  0   \n",
      "...              ...              ...     ...                ...   \n",
      "9995               0            96270       0                  0   \n",
      "9996               1           101699       0                  0   \n",
      "9997               1            42085       1                  0   \n",
      "9998               0            92888       1                  1   \n",
      "9999               0            38190       0                  0   \n",
      "\n",
      "      Geography_Spain  Gender_Male  \n",
      "0                   0            0  \n",
      "1                   1            0  \n",
      "2                   0            0  \n",
      "3                   0            0  \n",
      "4                   1            0  \n",
      "...               ...          ...  \n",
      "9995                0            1  \n",
      "9996                0            1  \n",
      "9997                0            0  \n",
      "9998                0            1  \n",
      "9999                0            0  \n",
      "\n",
      "[10000 rows x 12 columns]\n"
     ]
    }
   ],
   "source": [
    "bank = bank.drop(['Surname', 'RowNumber', 'CustomerId'], axis=1)\n",
    "bank = pd.get_dummies(bank, columns=['Geography', 'Gender'], drop_first=True)\n",
    "bank = bank.fillna(0)\n",
    "bank = bank.astype(int)\n",
    "print(bank)"
   ]
  },
  {
   "cell_type": "code",
   "execution_count": 4,
   "metadata": {},
   "outputs": [
    {
     "name": "stdout",
     "output_type": "stream",
     "text": [
      "Exited\n",
      "0    0.7963\n",
      "1    0.2037\n",
      "Name: proportion, dtype: float64\n"
     ]
    },
    {
     "data": {
      "text/plain": [
       "<Axes: xlabel='Exited'>"
      ]
     },
     "execution_count": 4,
     "metadata": {},
     "output_type": "execute_result"
    },
    {
     "data": {
      "image/png": "[encoded data removed]",
      "text/plain": [
       "<Figure size 640x480 with 1 Axes>"
      ]
     },
     "metadata": {},
     "output_type": "display_data"
    }
   ],
   "source": [
    "target = bank['Exited']\n",
    "features = bank.drop('Exited', axis=1)\n",
    "class_frequency = target.value_counts(normalize=True)\n",
    "train_features, test_features, train_target, test_target =  train_test_split(features, target, test_size=0.2, random_state=12345)\n",
    "train_features, valid_features, train_target, valid_target = train_test_split(train_features, train_target, test_size=0.25, random_state=12345)\n",
    "print(class_frequency)\n",
    "class_frequency.plot(kind='bar')"
   ]
  },
  {
   "cell_type": "markdown",
   "metadata": {},
   "source": [
    "- Tenemos un desequilibrio ya que los datos en un 80% de los casos son 0. Esto puede hacer que el modelo no aprenda a predecir los casos en los que la respuesta correcta es 1, por esto coincidero que debemos j¿hacer un sobre muestreo o submuestreo para equilibrarlo."
   ]
  },
  {
   "cell_type": "code",
   "execution_count": 5,
   "metadata": {},
   "outputs": [
    {
     "name": "stdout",
     "output_type": "stream",
     "text": [
      "Exited\n",
      "0    0.507091\n",
      "1    0.492909\n",
      "Name: proportion, dtype: float64\n"
     ]
    }
   ],
   "source": [
    "def upsample(features, target, repeat):\n",
    "    features_zeros = features[target == 0]\n",
    "    features_ones = features[target == 1]\n",
    "    target_zeros = target[target == 0]\n",
    "    target_ones = target[target == 1]\n",
    "    \n",
    "    features_upsampled = pd.concat([features_zeros] + [features_ones] * repeat)\n",
    "    target_upsampled = pd.concat([target_zeros] + [target_ones] * repeat)\n",
    "    \n",
    "    features_upsampled, target_upsampled = shuffle(features_upsampled, target_upsampled, random_state=12345)\n",
    "    \n",
    "    return features_upsampled, target_upsampled\n",
    "\n",
    "features_valid_upsampled, target_valid_upsampled = upsample(valid_features, valid_target, 4)\n",
    "features_train_upsampled, target_train_upsampled = upsample(train_features, train_target, 4)\n",
    "print(target_valid_upsampled.value_counts(normalize=True))"
   ]
  },
  {
   "cell_type": "code",
   "execution_count": 6,
   "metadata": {},
   "outputs": [],
   "source": [
    "#best_score = 0.59\n",
    "#best_depth = 0\n",
    "#for depth in range(1, 16, 1): \n",
    "#    model_forest = RandomForestClassifier(random_state=54321, max_depth=depth, n_estimators=20) \n",
    "#    model_forest.fit(features_train_upsampled, target_train_upsampled) \n",
    "#    predictions_forest = model_forest.predict(features_valid_upsampled)\n",
    "#    score = f1_score(target_valid_upsampled, predictions_forest) \n",
    "#    if score > best_score:\n",
    "#        best_score = score\n",
    "#        best_depth = depth\n",
    "#        print(best_depth)\n",
    "#        print(best_score)"
   ]
  },
  {
   "cell_type": "markdown",
   "metadata": {},
   "source": [
    "- Con este loop averigue los mejores hiperparametros."
   ]
  },
  {
   "cell_type": "code",
   "execution_count": 7,
   "metadata": {},
   "outputs": [
    {
     "name": "stdout",
     "output_type": "stream",
     "text": [
      "0.7321850726106045\n"
     ]
    }
   ],
   "source": [
    "model_forest = RandomForestClassifier(random_state=54321, max_depth=6, n_estimators=100, class_weight='balanced') \n",
    "model_forest.fit(features_train_upsampled, target_train_upsampled) \n",
    "predictions_forest = model_forest.predict(features_valid_upsampled)\n",
    "score_forest = f1_score(target_valid_upsampled, predictions_forest)\n",
    "print(score_forest)"
   ]
  },
  {
   "cell_type": "markdown",
   "metadata": {},
   "source": [
    "- La otra opcion que tenemos para solucionar el problema del desequilibrio de clases es utilizar el argumento class_weight para equilibrar el peso de cada clase y asi el modelo pueda ser entrenado bien."
   ]
  },
  {
   "cell_type": "code",
   "execution_count": 8,
   "metadata": {},
   "outputs": [
    {
     "name": "stdout",
     "output_type": "stream",
     "text": [
      "0.6711906230721777\n"
     ]
    }
   ],
   "source": [
    "model_logistic = LogisticRegression(random_state=12345, solver='liblinear')\n",
    "model_logistic.fit(features_train_upsampled, target_train_upsampled)\n",
    "predictions_logistic = model_logistic.predict(features_valid_upsampled)\n",
    "score_logistic = f1_score(target_valid_upsampled, predictions_logistic)\n",
    "print(score_logistic)"
   ]
  },
  {
   "cell_type": "code",
   "execution_count": 9,
   "metadata": {},
   "outputs": [
    {
     "name": "stdout",
     "output_type": "stream",
     "text": [
      "0.5737439222042139\n"
     ]
    }
   ],
   "source": [
    "model_tree = DecisionTreeClassifier(random_state=12345)\n",
    "model_tree.fit(features_train_upsampled, target_train_upsampled)\n",
    "predictions_tree = model_tree.predict(features_valid_upsampled)\n",
    "score_tree = f1_score(target_valid_upsampled, predictions_tree)\n",
    "print(score_tree)"
   ]
  },
  {
   "cell_type": "code",
   "execution_count": 10,
   "metadata": {},
   "outputs": [
    {
     "name": "stdout",
     "output_type": "stream",
     "text": [
      "0.6288461538461538\n"
     ]
    }
   ],
   "source": [
    "model_forest_test_predictions = model_forest.predict(test_features)\n",
    "model_forest_test_score = f1_score(test_target, model_forest_test_predictions)\n",
    "print(model_forest_test_score)"
   ]
  },
  {
   "cell_type": "markdown",
   "metadata": {},
   "source": [
    "- El mejor modelo de clasificacion teniendo en cuenta el f1_score es el randomforestclassifier, esto debido a que con el conjunto de validacion tiene un score de 0.72 y con el de prueba tiene 0.61 superando el objetivo"
   ]
  },
  {
   "cell_type": "code",
   "execution_count": 11,
   "metadata": {},
   "outputs": [
    {
     "name": "stdout",
     "output_type": "stream",
     "text": [
      "0.8664896951037041\n"
     ]
    }
   ],
   "source": [
    "test_probabilities = model_forest.predict_proba(test_features)[:, 1]\n",
    "test_auc_roc = roc_auc_score(test_target, test_probabilities)\n",
    "print(test_auc_roc)"
   ]
  },
  {
   "cell_type": "markdown",
   "metadata": {},
   "source": [
    "- Es mayor el valor auc roc que el f1. Esto significa que el modelo sabe discriminar entre las diferentes clases pero no es tan bueno con la precision y el recall lo que podria mejorarse ajustando el umbral."
   ]
  }
 ],
 "metadata": {
  "kernelspec": {
   "display_name": "bank_env",
   "language": "python",
   "name": "python3"
  },
  "language_info": {
   "codemirror_mode": {
    "name": "ipython",
    "version": 3
   },
   "file_extension": ".py",
   "mimetype": "text/x-python",
   "name": "python",
   "nbconvert_exporter": "python",
   "pygments_lexer": "ipython3",
   "version": "3.12.3"
  }
 },
 "nbformat": 4,
 "nbformat_minor": 2
}
