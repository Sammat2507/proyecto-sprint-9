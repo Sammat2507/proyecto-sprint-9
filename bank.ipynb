{
 "cells": [
  {
   "cell_type": "code",
   "execution_count": 21,
   "metadata": {},
   "outputs": [],
   "source": [
    "import pandas as pd\n",
    "import numpy as np\n",
    "from sklearn.linear_model import LogisticRegression\n",
    "from sklearn.model_selection import train_test_split\n",
    "from sklearn.metrics import precision_score, recall_score, accuracy_score, precision_recall_curve, f1_score\n",
    "from sklearn.utils import shuffle"
   ]
  },
  {
   "cell_type": "code",
   "execution_count": 22,
   "metadata": {},
   "outputs": [
    {
     "name": "stdout",
     "output_type": "stream",
     "text": [
      "<class 'pandas.core.frame.DataFrame'>\n",
      "RangeIndex: 10000 entries, 0 to 9999\n",
      "Data columns (total 14 columns):\n",
      " #   Column           Non-Null Count  Dtype  \n",
      "---  ------           --------------  -----  \n",
      " 0   RowNumber        10000 non-null  int64  \n",
      " 1   CustomerId       10000 non-null  int64  \n",
      " 2   Surname          10000 non-null  object \n",
      " 3   CreditScore      10000 non-null  int64  \n",
      " 4   Geography        10000 non-null  object \n",
      " 5   Gender           10000 non-null  object \n",
      " 6   Age              10000 non-null  int64  \n",
      " 7   Tenure           9091 non-null   float64\n",
      " 8   Balance          10000 non-null  float64\n",
      " 9   NumOfProducts    10000 non-null  int64  \n",
      " 10  HasCrCard        10000 non-null  int64  \n",
      " 11  IsActiveMember   10000 non-null  int64  \n",
      " 12  EstimatedSalary  10000 non-null  float64\n",
      " 13  Exited           10000 non-null  int64  \n",
      "dtypes: float64(3), int64(8), object(3)\n",
      "memory usage: 1.1+ MB\n"
     ]
    }
   ],
   "source": [
    "bank = pd.read_csv('Churn.csv')\n",
    "bank.info()"
   ]
  },
  {
   "cell_type": "code",
   "execution_count": 23,
   "metadata": {},
   "outputs": [
    {
     "name": "stdout",
     "output_type": "stream",
     "text": [
      "      RowNumber  CustomerId  CreditScore  Age  Tenure    Balance  \\\n",
      "0             1    15634602          619   42     2.0       0.00   \n",
      "1             2    15647311          608   41     1.0   83807.86   \n",
      "2             3    15619304          502   42     8.0  159660.80   \n",
      "3             4    15701354          699   39     1.0       0.00   \n",
      "4             5    15737888          850   43     2.0  125510.82   \n",
      "...         ...         ...          ...  ...     ...        ...   \n",
      "9995       9996    15606229          771   39     5.0       0.00   \n",
      "9996       9997    15569892          516   35    10.0   57369.61   \n",
      "9997       9998    15584532          709   36     7.0       0.00   \n",
      "9998       9999    15682355          772   42     3.0   75075.31   \n",
      "9999      10000    15628319          792   28     NaN  130142.79   \n",
      "\n",
      "      NumOfProducts  HasCrCard  IsActiveMember  EstimatedSalary  Exited  \\\n",
      "0                 1          1               1        101348.88       1   \n",
      "1                 1          0               1        112542.58       0   \n",
      "2                 3          1               0        113931.57       1   \n",
      "3                 2          0               0         93826.63       0   \n",
      "4                 1          1               1         79084.10       0   \n",
      "...             ...        ...             ...              ...     ...   \n",
      "9995              2          1               0         96270.64       0   \n",
      "9996              1          1               1        101699.77       0   \n",
      "9997              1          0               1         42085.58       1   \n",
      "9998              2          1               0         92888.52       1   \n",
      "9999              1          1               0         38190.78       0   \n",
      "\n",
      "      Geography_Germany  Geography_Spain  Gender_Male  \n",
      "0                 False            False        False  \n",
      "1                 False             True        False  \n",
      "2                 False            False        False  \n",
      "3                 False            False        False  \n",
      "4                 False             True        False  \n",
      "...                 ...              ...          ...  \n",
      "9995              False            False         True  \n",
      "9996              False            False         True  \n",
      "9997              False            False        False  \n",
      "9998               True            False         True  \n",
      "9999              False            False        False  \n",
      "\n",
      "[10000 rows x 14 columns]\n"
     ]
    }
   ],
   "source": [
    "bank = bank.drop('Surname', axis=1)\n",
    "bank = pd.get_dummies(bank, columns=['Geography', 'Gender'], drop_first=True)\n",
    "print(bank)"
   ]
  },
  {
   "cell_type": "code",
   "execution_count": 24,
   "metadata": {},
   "outputs": [
    {
     "name": "stdout",
     "output_type": "stream",
     "text": [
      "Exited\n",
      "0    0.7963\n",
      "1    0.2037\n",
      "Name: proportion, dtype: float64\n"
     ]
    }
   ],
   "source": [
    "target = bank['Exited']\n",
    "features = bank.drop('Exited', axis=1)\n",
    "print(target.value_counts(normalize=True))\n",
    "train_target, valid_target, train_features, valid_features = train_test_split(target, features, test_size=0.25, random_state=12345)"
   ]
  },
  {
   "cell_type": "code",
   "execution_count": 31,
   "metadata": {},
   "outputs": [
    {
     "name": "stdout",
     "output_type": "stream",
     "text": [
      "Exited\n",
      "1    0.521315\n",
      "0    0.478685\n",
      "Name: proportion, dtype: float64\n"
     ]
    }
   ],
   "source": [
    "def upsample(features, target, repeat):\n",
    "    features_zeros = features[target == 0]\n",
    "    features_ones = features[target == 1]\n",
    "    target_zeros = target[target == 0]\n",
    "    target_ones = target[target == 1]\n",
    "    \n",
    "    features_upsampled = pd.concat([features_zeros] + [features_ones] * repeat)\n",
    "    target_upsampled = pd.concat([target_zeros] + [target_ones] * repeat)\n",
    "    \n",
    "    features_upsampled, target_upsampled = shuffle(features_upsampled, target_upsampled, random_state=12345)\n",
    "    \n",
    "    return features_upsampled, target_upsampled\n",
    "\n",
    "features_valid_upsampled, target_valid_upsampled = upsample(valid_features, valid_target, 4)\n",
    "features_train_upsampled, target_train_upsampled = upsample(train_features, train_target, 4)\n",
    "print(target_valid_upsampled.value_counts(normalize=True))"
   ]
  },
  {
   "cell_type": "code",
   "execution_count": null,
   "metadata": {},
   "outputs": [],
   "source": []
  }
 ],
 "metadata": {
  "kernelspec": {
   "display_name": "bank_env",
   "language": "python",
   "name": "python3"
  },
  "language_info": {
   "codemirror_mode": {
    "name": "ipython",
    "version": 3
   },
   "file_extension": ".py",
   "mimetype": "text/x-python",
   "name": "python",
   "nbconvert_exporter": "python",
   "pygments_lexer": "ipython3",
   "version": "3.12.3"
  }
 },
 "nbformat": 4,
 "nbformat_minor": 2
}
